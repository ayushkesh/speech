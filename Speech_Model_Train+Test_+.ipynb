{
  "nbformat": 4,
  "nbformat_minor": 0,
  "metadata": {
    "colab": {
      "name": "Speech_Model_Train+Test +.ipynb",
      "provenance": [],
      "collapsed_sections": []
    },
    "kernelspec": {
      "name": "python3",
      "display_name": "Python 3"
    },
    "accelerator": "GPU"
  },
  "cells": [
    {
      "cell_type": "markdown",
      "metadata": {
        "id": "QhVqkp939Gsl",
        "colab_type": "text"
      },
      "source": [
        "# Requirements"
      ]
    },
    {
      "cell_type": "code",
      "metadata": {
        "id": "fFYTqNlM8-ox",
        "colab_type": "code",
        "colab": {
          "base_uri": "https://localhost:8080/",
          "height": 921
        },
        "outputId": "f5069630-049c-4ff9-9f6f-bca431307a87"
      },
      "source": [
        "%pip install kapre==0.1.7\n",
        "%pip install soundfile\n",
        "%pip install ffmpeg-python"
      ],
      "execution_count": null,
      "outputs": [
        {
          "output_type": "stream",
          "text": [
            "Requirement already satisfied: kapre==0.1.7 in /usr/local/lib/python3.6/dist-packages (0.1.7)\n",
            "Requirement already satisfied: librosa>=0.5 in /usr/local/lib/python3.6/dist-packages (from kapre==0.1.7) (0.6.3)\n",
            "Requirement already satisfied: tensorflow>=1.15 in /usr/local/lib/python3.6/dist-packages (from kapre==0.1.7) (2.3.0)\n",
            "Requirement already satisfied: numpy>=1.8.0 in /usr/local/lib/python3.6/dist-packages (from kapre==0.1.7) (1.18.5)\n",
            "Requirement already satisfied: joblib>=0.12 in /usr/local/lib/python3.6/dist-packages (from librosa>=0.5->kapre==0.1.7) (0.16.0)\n",
            "Requirement already satisfied: six>=1.3 in /usr/local/lib/python3.6/dist-packages (from librosa>=0.5->kapre==0.1.7) (1.15.0)\n",
            "Requirement already satisfied: scikit-learn!=0.19.0,>=0.14.0 in /usr/local/lib/python3.6/dist-packages (from librosa>=0.5->kapre==0.1.7) (0.22.2.post1)\n",
            "Requirement already satisfied: scipy>=1.0.0 in /usr/local/lib/python3.6/dist-packages (from librosa>=0.5->kapre==0.1.7) (1.4.1)\n",
            "Requirement already satisfied: resampy>=0.2.0 in /usr/local/lib/python3.6/dist-packages (from librosa>=0.5->kapre==0.1.7) (0.2.2)\n",
            "Requirement already satisfied: decorator>=3.0.0 in /usr/local/lib/python3.6/dist-packages (from librosa>=0.5->kapre==0.1.7) (4.4.2)\n",
            "Requirement already satisfied: audioread>=2.0.0 in /usr/local/lib/python3.6/dist-packages (from librosa>=0.5->kapre==0.1.7) (2.1.8)\n",
            "Requirement already satisfied: numba>=0.38.0 in /usr/local/lib/python3.6/dist-packages (from librosa>=0.5->kapre==0.1.7) (0.48.0)\n",
            "Requirement already satisfied: protobuf>=3.9.2 in /usr/local/lib/python3.6/dist-packages (from tensorflow>=1.15->kapre==0.1.7) (3.12.4)\n",
            "Requirement already satisfied: h5py<2.11.0,>=2.10.0 in /usr/local/lib/python3.6/dist-packages (from tensorflow>=1.15->kapre==0.1.7) (2.10.0)\n",
            "Requirement already satisfied: tensorboard<3,>=2.3.0 in /usr/local/lib/python3.6/dist-packages (from tensorflow>=1.15->kapre==0.1.7) (2.3.0)\n",
            "Requirement already satisfied: tensorflow-estimator<2.4.0,>=2.3.0 in /usr/local/lib/python3.6/dist-packages (from tensorflow>=1.15->kapre==0.1.7) (2.3.0)\n",
            "Requirement already satisfied: grpcio>=1.8.6 in /usr/local/lib/python3.6/dist-packages (from tensorflow>=1.15->kapre==0.1.7) (1.31.0)\n",
            "Requirement already satisfied: opt-einsum>=2.3.2 in /usr/local/lib/python3.6/dist-packages (from tensorflow>=1.15->kapre==0.1.7) (3.3.0)\n",
            "Requirement already satisfied: astunparse==1.6.3 in /usr/local/lib/python3.6/dist-packages (from tensorflow>=1.15->kapre==0.1.7) (1.6.3)\n",
            "Requirement already satisfied: wheel>=0.26 in /usr/local/lib/python3.6/dist-packages (from tensorflow>=1.15->kapre==0.1.7) (0.35.1)\n",
            "Requirement already satisfied: wrapt>=1.11.1 in /usr/local/lib/python3.6/dist-packages (from tensorflow>=1.15->kapre==0.1.7) (1.12.1)\n",
            "Requirement already satisfied: keras-preprocessing<1.2,>=1.1.1 in /usr/local/lib/python3.6/dist-packages (from tensorflow>=1.15->kapre==0.1.7) (1.1.2)\n",
            "Requirement already satisfied: google-pasta>=0.1.8 in /usr/local/lib/python3.6/dist-packages (from tensorflow>=1.15->kapre==0.1.7) (0.2.0)\n",
            "Requirement already satisfied: absl-py>=0.7.0 in /usr/local/lib/python3.6/dist-packages (from tensorflow>=1.15->kapre==0.1.7) (0.8.1)\n",
            "Requirement already satisfied: termcolor>=1.1.0 in /usr/local/lib/python3.6/dist-packages (from tensorflow>=1.15->kapre==0.1.7) (1.1.0)\n",
            "Requirement already satisfied: gast==0.3.3 in /usr/local/lib/python3.6/dist-packages (from tensorflow>=1.15->kapre==0.1.7) (0.3.3)\n",
            "Requirement already satisfied: setuptools in /usr/local/lib/python3.6/dist-packages (from numba>=0.38.0->librosa>=0.5->kapre==0.1.7) (49.6.0)\n",
            "Requirement already satisfied: llvmlite<0.32.0,>=0.31.0dev0 in /usr/local/lib/python3.6/dist-packages (from numba>=0.38.0->librosa>=0.5->kapre==0.1.7) (0.31.0)\n",
            "Requirement already satisfied: google-auth<2,>=1.6.3 in /usr/local/lib/python3.6/dist-packages (from tensorboard<3,>=2.3.0->tensorflow>=1.15->kapre==0.1.7) (1.17.2)\n",
            "Requirement already satisfied: werkzeug>=0.11.15 in /usr/local/lib/python3.6/dist-packages (from tensorboard<3,>=2.3.0->tensorflow>=1.15->kapre==0.1.7) (1.0.1)\n",
            "Requirement already satisfied: google-auth-oauthlib<0.5,>=0.4.1 in /usr/local/lib/python3.6/dist-packages (from tensorboard<3,>=2.3.0->tensorflow>=1.15->kapre==0.1.7) (0.4.1)\n",
            "Requirement already satisfied: requests<3,>=2.21.0 in /usr/local/lib/python3.6/dist-packages (from tensorboard<3,>=2.3.0->tensorflow>=1.15->kapre==0.1.7) (2.23.0)\n",
            "Requirement already satisfied: markdown>=2.6.8 in /usr/local/lib/python3.6/dist-packages (from tensorboard<3,>=2.3.0->tensorflow>=1.15->kapre==0.1.7) (3.2.2)\n",
            "Requirement already satisfied: tensorboard-plugin-wit>=1.6.0 in /usr/local/lib/python3.6/dist-packages (from tensorboard<3,>=2.3.0->tensorflow>=1.15->kapre==0.1.7) (1.7.0)\n",
            "Requirement already satisfied: pyasn1-modules>=0.2.1 in /usr/local/lib/python3.6/dist-packages (from google-auth<2,>=1.6.3->tensorboard<3,>=2.3.0->tensorflow>=1.15->kapre==0.1.7) (0.2.8)\n",
            "Requirement already satisfied: rsa<5,>=3.1.4; python_version >= \"3\" in /usr/local/lib/python3.6/dist-packages (from google-auth<2,>=1.6.3->tensorboard<3,>=2.3.0->tensorflow>=1.15->kapre==0.1.7) (4.6)\n",
            "Requirement already satisfied: cachetools<5.0,>=2.0.0 in /usr/local/lib/python3.6/dist-packages (from google-auth<2,>=1.6.3->tensorboard<3,>=2.3.0->tensorflow>=1.15->kapre==0.1.7) (4.1.1)\n",
            "Requirement already satisfied: requests-oauthlib>=0.7.0 in /usr/local/lib/python3.6/dist-packages (from google-auth-oauthlib<0.5,>=0.4.1->tensorboard<3,>=2.3.0->tensorflow>=1.15->kapre==0.1.7) (1.3.0)\n",
            "Requirement already satisfied: urllib3!=1.25.0,!=1.25.1,<1.26,>=1.21.1 in /usr/local/lib/python3.6/dist-packages (from requests<3,>=2.21.0->tensorboard<3,>=2.3.0->tensorflow>=1.15->kapre==0.1.7) (1.24.3)\n",
            "Requirement already satisfied: chardet<4,>=3.0.2 in /usr/local/lib/python3.6/dist-packages (from requests<3,>=2.21.0->tensorboard<3,>=2.3.0->tensorflow>=1.15->kapre==0.1.7) (3.0.4)\n",
            "Requirement already satisfied: certifi>=2017.4.17 in /usr/local/lib/python3.6/dist-packages (from requests<3,>=2.21.0->tensorboard<3,>=2.3.0->tensorflow>=1.15->kapre==0.1.7) (2020.6.20)\n",
            "Requirement already satisfied: idna<3,>=2.5 in /usr/local/lib/python3.6/dist-packages (from requests<3,>=2.21.0->tensorboard<3,>=2.3.0->tensorflow>=1.15->kapre==0.1.7) (2.10)\n",
            "Requirement already satisfied: importlib-metadata; python_version < \"3.8\" in /usr/local/lib/python3.6/dist-packages (from markdown>=2.6.8->tensorboard<3,>=2.3.0->tensorflow>=1.15->kapre==0.1.7) (1.7.0)\n",
            "Requirement already satisfied: pyasn1<0.5.0,>=0.4.6 in /usr/local/lib/python3.6/dist-packages (from pyasn1-modules>=0.2.1->google-auth<2,>=1.6.3->tensorboard<3,>=2.3.0->tensorflow>=1.15->kapre==0.1.7) (0.4.8)\n",
            "Requirement already satisfied: oauthlib>=3.0.0 in /usr/local/lib/python3.6/dist-packages (from requests-oauthlib>=0.7.0->google-auth-oauthlib<0.5,>=0.4.1->tensorboard<3,>=2.3.0->tensorflow>=1.15->kapre==0.1.7) (3.1.0)\n",
            "Requirement already satisfied: zipp>=0.5 in /usr/local/lib/python3.6/dist-packages (from importlib-metadata; python_version < \"3.8\"->markdown>=2.6.8->tensorboard<3,>=2.3.0->tensorflow>=1.15->kapre==0.1.7) (3.1.0)\n",
            "Requirement already satisfied: soundfile in /usr/local/lib/python3.6/dist-packages (0.10.3.post1)\n",
            "Requirement already satisfied: cffi>=1.0 in /usr/local/lib/python3.6/dist-packages (from soundfile) (1.14.2)\n",
            "Requirement already satisfied: pycparser in /usr/local/lib/python3.6/dist-packages (from cffi>=1.0->soundfile) (2.20)\n",
            "Requirement already satisfied: ffmpeg-python in /usr/local/lib/python3.6/dist-packages (0.2.0)\n",
            "Requirement already satisfied: future in /usr/local/lib/python3.6/dist-packages (from ffmpeg-python) (0.16.0)\n"
          ],
          "name": "stdout"
        }
      ]
    },
    {
      "cell_type": "code",
      "metadata": {
        "id": "aO6wf5nK9_Pn",
        "colab_type": "code",
        "colab": {
          "base_uri": "https://localhost:8080/",
          "height": 35
        },
        "outputId": "cce40b3c-374c-420b-d4e7-9333ed3ce91f"
      },
      "source": [
        "from google.colab import drive\n",
        "drive.mount('/content/drive')"
      ],
      "execution_count": null,
      "outputs": [
        {
          "output_type": "stream",
          "text": [
            "Drive already mounted at /content/drive; to attempt to forcibly remount, call drive.mount(\"/content/drive\", force_remount=True).\n"
          ],
          "name": "stdout"
        }
      ]
    },
    {
      "cell_type": "code",
      "metadata": {
        "id": "ZiFZQ-l69NuV",
        "colab_type": "code",
        "colab": {}
      },
      "source": [
        "import os\n",
        "import numpy as np\n",
        "import kapre\n",
        "import librosa\n",
        "import random\n",
        "import tensorflow as tf\n",
        "import soundfile as sf\n",
        "from tensorflow.keras import layers as L\n",
        "from tensorflow.keras.models import Sequential,Model\n",
        "from kapre.time_frequency import Melspectrogram\n",
        "from kapre.utils import Normalization2D\n",
        "from tensorflow.keras import backend as K\n",
        "from sklearn.model_selection import train_test_split"
      ],
      "execution_count": null,
      "outputs": []
    },
    {
      "cell_type": "markdown",
      "metadata": {
        "id": "19F6-jMI9RUn",
        "colab_type": "text"
      },
      "source": [
        "# Generate data"
      ]
    },
    {
      "cell_type": "code",
      "metadata": {
        "id": "5wLqc3oPC76v",
        "colab_type": "code",
        "colab": {
          "base_uri": "https://localhost:8080/",
          "height": 104
        },
        "outputId": "3b7fb5bf-ab0f-45e6-c9fe-7912b1ee05f1"
      },
      "source": [
        "data_dir = '/content/drive/My Drive/ayush_ML/Data/Ayush_17/'\n",
        "os.chdir(data_dir)\n",
        " \n",
        "data_x = []\n",
        "data_y = []\n",
        "for a,i in enumerate(['forward','back','left','right','stop']):\n",
        "    lis = os.listdir(data_dir+i)\n",
        "    for j in lis:\n",
        "        l,sr = sf.read(data_dir+i+'/'+j)\n",
        "        #print(len(l))\n",
        "        #if(len(l)>=8000):\n",
        "        data_x.append(l[0:8000])\n",
        "        data_y.append(a)\n",
        "        #else:\n",
        "        #    print(i)\n",
        "    print(i,\" Done\")\n",
        " \n",
        "data_x = np.array(data_x)\n",
        "data_y = np.array(data_y)\n",
        " \n",
        " \n",
        "np.save('x.npy',data_x)\n",
        "np.save('y.npy',data_y)"
      ],
      "execution_count": null,
      "outputs": [
        {
          "output_type": "stream",
          "text": [
            "forward  Done\n",
            "back  Done\n",
            "left  Done\n",
            "right  Done\n",
            "stop  Done\n"
          ],
          "name": "stdout"
        }
      ]
    },
    {
      "cell_type": "markdown",
      "metadata": {
        "id": "zJ6iEPOQmnmx",
        "colab_type": "text"
      },
      "source": [
        "# Splitting data into Train and Test"
      ]
    },
    {
      "cell_type": "code",
      "metadata": {
        "id": "qIuydKQt9gJm",
        "colab_type": "code",
        "colab": {}
      },
      "source": [
        "from sklearn.model_selection import train_test_split\n",
        "import numpy as np\n",
        "np_load_old = np.load\n",
        "\n",
        "np.load = lambda *a,**k: np_load_old(*a, allow_pickle=True, **k)\n",
        "\n",
        "data_x = np.load('x.npy')\n",
        "data_y = np.load('y.npy')\n",
        "tr_x,te_x, tr_y,te_y = train_test_split(data_x,data_y,stratify=data_y,random_state=123,test_size=0.2)\n",
        "np.load = np_load_old"
      ],
      "execution_count": null,
      "outputs": []
    },
    {
      "cell_type": "code",
      "metadata": {
        "id": "NZrT1E4Vl4A0",
        "colab_type": "code",
        "colab": {
          "base_uri": "https://localhost:8080/",
          "height": 35
        },
        "outputId": "9f9df5c8-b1c1-44a1-b1f6-3350b70a300d"
      },
      "source": [
        "data_x.shape"
      ],
      "execution_count": null,
      "outputs": [
        {
          "output_type": "execute_result",
          "data": {
            "text/plain": [
              "(400,)"
            ]
          },
          "metadata": {
            "tags": []
          },
          "execution_count": 7
        }
      ]
    },
    {
      "cell_type": "code",
      "metadata": {
        "id": "vGDq556K9jvh",
        "colab_type": "code",
        "colab": {}
      },
      "source": [
        "x_train = []\n",
        "y_train = []\n",
        "for i,j in enumerate(tr_x):\n",
        "    x= len(j)\n",
        "    p = 25000-x\n",
        "    for y in range(1 ,p, 500):\n",
        "        nx = np.zeros(25000)\n",
        "        nx[y:y+x] =j\n",
        "        x_train.append(nx)\n",
        "        y_train.append(tr_y[i])\n",
        "x_train = np.array(x_train)\n",
        "y_train = np.array(y_train)\n",
        "\n",
        "x_test = []\n",
        "y_test = []\n",
        "for i,j in enumerate(te_x):\n",
        "    x= len(j)\n",
        "    p = 25000-x\n",
        "    for y in range(1 ,p, 500):\n",
        "        nx = np.zeros(25000)\n",
        "        nx[y:y+x] =j\n",
        "        x_test.append(nx)\n",
        "        y_test.append(te_y[i])\n",
        "x_test = np.array(x_test)\n",
        "y_test = np.array(y_test)\n",
        "\n",
        "np.save('x_train.npy',x_train)\n",
        "np.save('y_train.npy',y_train)\n",
        "np.save('x_test.npy',x_test)\n",
        "np.save('y_test.npy',y_test)"
      ],
      "execution_count": null,
      "outputs": []
    },
    {
      "cell_type": "markdown",
      "metadata": {
        "id": "NMkAeCdz9zfb",
        "colab_type": "text"
      },
      "source": [
        "# Extract Features"
      ]
    },
    {
      "cell_type": "code",
      "metadata": {
        "id": "iliXCwWk9w_C",
        "colab_type": "code",
        "colab": {}
      },
      "source": [
        "mfcc = Sequential()\n",
        "mfcc.add(L.Reshape((1, -1)))\n",
        "mfcc.add(Melspectrogram(padding='same', sr=16000, n_mels=39, n_dft = 1024,\n",
        "                        power_melgram=2.0, return_decibel_melgram=True,\n",
        "                        trainable_fb=False, trainable_kernel=False,\n",
        "                        name='mel_stft'))\n",
        "mfcc.add(Normalization2D(str_axis='freq'))\n",
        "mfcc.add(L.Permute((2, 1, 3)))\n",
        "\n",
        "x_train = mfcc.predict(x_train)\n",
        "x_train.shape\n",
        "\n",
        "x_test = mfcc.predict(x_test)\n",
        "x_test.shape\n",
        "\n",
        "np.save('mfcc_train.npy',x_train)\n",
        "np.save('mfcc_test.npy',x_test)"
      ],
      "execution_count": null,
      "outputs": []
    },
    {
      "cell_type": "markdown",
      "metadata": {
        "id": "YBXWnYPd9nRh",
        "colab_type": "text"
      },
      "source": [
        "# Loading data"
      ]
    },
    {
      "cell_type": "code",
      "metadata": {
        "id": "w4MDYtrH9pnA",
        "colab_type": "code",
        "colab": {}
      },
      "source": [
        "# Change the directory \n",
        "data_dir = '/content/drive/My Drive/ayush_ML/Data/Ayush_17'\n",
        "os.chdir(data_dir)\n",
        "x_train = np.load('mfcc_train.npy')\n",
        "y_train = np.load('y_train.npy')\n",
        "x_test = np.load('mfcc_test.npy')\n",
        "y_test = np.load('y_test.npy')"
      ],
      "execution_count": null,
      "outputs": []
    },
    {
      "cell_type": "markdown",
      "metadata": {
        "id": "xpKZzwTB9-hD",
        "colab_type": "text"
      },
      "source": [
        "# Model"
      ]
    },
    {
      "cell_type": "code",
      "metadata": {
        "id": "E0J9Xu9uQv5H",
        "colab_type": "code",
        "colab": {}
      },
      "source": [
        "# https://github.com/douglas125/SpeechCmdRecognition/blob/master/SpeechModels.py\n",
        "\n",
        "os.environ['PYTHONHASHSEED']='123'\n",
        "np.random.seed(123)\n",
        "random.seed(123)\n",
        "tf.random.set_seed(123)\n",
        "\n",
        "def AttentionModel(sr=16000, iLen=25000):\n",
        "    \n",
        "    inputs = L.Input(x_train.shape[1:], name='Input')\n",
        "\n",
        "    x = L.Conv2D(10, (5, 1), activation='relu', padding='same', name='Conv1')(inputs)\n",
        "    x = L.BatchNormalization(name='BN1')(x)\n",
        "    x = L.Conv2D(1, (5, 1), activation='relu', padding='same', name='Conv2')(x)\n",
        "    x = L.BatchNormalization(name='BN2')(x)\n",
        "\n",
        "    x = L.Reshape(x.shape[1:-1],name='Squeeze')(x)\n",
        "\n",
        "    n_units = 64\n",
        "    x = L.LSTM(n_units, return_sequences=True, name='LSTM_Sequences')(x)  \n",
        "\n",
        "    # Calculate Unit Importance\n",
        "    xLast = L.Lambda(lambda q: q[:, -1], name='FinalSequence')(x)  # [b_s, vec_dim]\n",
        "    xLast = L.Dense(xLast.shape[-1], name='UnitImportance')(xLast)\n",
        "\n",
        "    # Calculate attention\n",
        "    attScores = L.Dot(axes=[1, 2],name='AttentionScores')([xLast, x])\n",
        "    attScores = L.Softmax(name='AttentionSoftmax')(attScores)  \n",
        "\n",
        "    x = L.Dot(axes=[1, 1], name='AttentionVector')([attScores, x])  \n",
        "    x = L.Dense(32, activation='relu', name='FC')(x)\n",
        "    outputs = L.Dense(5, activation='softmax', name='Output')(x)\n",
        "    model = Model(inputs=[inputs], outputs=[outputs], name='Attention')\n",
        "\n",
        "    return model\n",
        "\n",
        "model = AttentionModel()\n",
        "model.compile(optimizer=tf.keras.optimizers.Adam(), loss=['sparse_categorical_crossentropy'], metrics=['sparse_categorical_accuracy'])"
      ],
      "execution_count": null,
      "outputs": []
    },
    {
      "cell_type": "code",
      "metadata": {
        "id": "ocATdYnyvPgQ",
        "colab_type": "code",
        "colab": {
          "base_uri": "https://localhost:8080/",
          "height": 676
        },
        "outputId": "002b5831-871c-4dda-c453-369234ba7e69"
      },
      "source": [
        "model.summary()"
      ],
      "execution_count": null,
      "outputs": [
        {
          "output_type": "stream",
          "text": [
            "Model: \"Attention\"\n",
            "__________________________________________________________________________________________________\n",
            "Layer (type)                    Output Shape         Param #     Connected to                     \n",
            "==================================================================================================\n",
            "Input (InputLayer)              [(None, 49, 39, 1)]  0                                            \n",
            "__________________________________________________________________________________________________\n",
            "Conv1 (Conv2D)                  (None, 49, 39, 10)   60          Input[0][0]                      \n",
            "__________________________________________________________________________________________________\n",
            "BN1 (BatchNormalization)        (None, 49, 39, 10)   40          Conv1[0][0]                      \n",
            "__________________________________________________________________________________________________\n",
            "Conv2 (Conv2D)                  (None, 49, 39, 1)    51          BN1[0][0]                        \n",
            "__________________________________________________________________________________________________\n",
            "BN2 (BatchNormalization)        (None, 49, 39, 1)    4           Conv2[0][0]                      \n",
            "__________________________________________________________________________________________________\n",
            "Squeeze (Reshape)               (None, 49, 39)       0           BN2[0][0]                        \n",
            "__________________________________________________________________________________________________\n",
            "LSTM_Sequences (LSTM)           (None, 49, 64)       26624       Squeeze[0][0]                    \n",
            "__________________________________________________________________________________________________\n",
            "FinalSequence (Lambda)          (None, 64)           0           LSTM_Sequences[0][0]             \n",
            "__________________________________________________________________________________________________\n",
            "UnitImportance (Dense)          (None, 64)           4160        FinalSequence[0][0]              \n",
            "__________________________________________________________________________________________________\n",
            "AttentionScores (Dot)           (None, 49)           0           UnitImportance[0][0]             \n",
            "                                                                 LSTM_Sequences[0][0]             \n",
            "__________________________________________________________________________________________________\n",
            "AttentionSoftmax (Softmax)      (None, 49)           0           AttentionScores[0][0]            \n",
            "__________________________________________________________________________________________________\n",
            "AttentionVector (Dot)           (None, 64)           0           AttentionSoftmax[0][0]           \n",
            "                                                                 LSTM_Sequences[0][0]             \n",
            "__________________________________________________________________________________________________\n",
            "FC (Dense)                      (None, 32)           2080        AttentionVector[0][0]            \n",
            "__________________________________________________________________________________________________\n",
            "Output (Dense)                  (None, 5)            165         FC[0][0]                         \n",
            "==================================================================================================\n",
            "Total params: 33,184\n",
            "Trainable params: 33,162\n",
            "Non-trainable params: 22\n",
            "__________________________________________________________________________________________________\n"
          ],
          "name": "stdout"
        }
      ]
    },
    {
      "cell_type": "markdown",
      "metadata": {
        "id": "JcO8GwG1-iI6",
        "colab_type": "text"
      },
      "source": [
        "# Train Model"
      ]
    },
    {
      "cell_type": "code",
      "metadata": {
        "id": "76JMIwOXv8iu",
        "colab_type": "code",
        "colab": {
          "base_uri": "https://localhost:8080/",
          "height": 381
        },
        "outputId": "4185a64d-fae5-4693-d76d-69fbab4b2cee"
      },
      "source": [
        "model.fit(x_train,y_train,validation_data=(x_test,y_test),verbose=2,epochs=10,shuffle=True,batch_size=15)\n",
        "#model.fit(x_train,y_train,validation_data=(x_test,y_test),verbose=1,epochs=15,shuffle=True,batch_size=20)"
      ],
      "execution_count": null,
      "outputs": [
        {
          "output_type": "stream",
          "text": [
            "Epoch 1/10\n",
            "726/726 - 6s - loss: 0.5848 - sparse_categorical_accuracy: 0.7618 - val_loss: 0.1023 - val_sparse_categorical_accuracy: 0.9621\n",
            "Epoch 2/10\n",
            "726/726 - 5s - loss: 0.0305 - sparse_categorical_accuracy: 0.9897 - val_loss: 0.1256 - val_sparse_categorical_accuracy: 0.9636\n",
            "Epoch 3/10\n",
            "726/726 - 5s - loss: 0.0229 - sparse_categorical_accuracy: 0.9905 - val_loss: 0.1087 - val_sparse_categorical_accuracy: 0.9592\n",
            "Epoch 4/10\n",
            "726/726 - 5s - loss: 0.0207 - sparse_categorical_accuracy: 0.9904 - val_loss: 0.0957 - val_sparse_categorical_accuracy: 0.9798\n",
            "Epoch 5/10\n",
            "726/726 - 5s - loss: 0.0177 - sparse_categorical_accuracy: 0.9919 - val_loss: 0.1107 - val_sparse_categorical_accuracy: 0.9680\n",
            "Epoch 6/10\n",
            "726/726 - 5s - loss: 0.0125 - sparse_categorical_accuracy: 0.9943 - val_loss: 0.1181 - val_sparse_categorical_accuracy: 0.9779\n",
            "Epoch 7/10\n",
            "726/726 - 5s - loss: 0.0203 - sparse_categorical_accuracy: 0.9904 - val_loss: 0.1209 - val_sparse_categorical_accuracy: 0.9746\n",
            "Epoch 8/10\n",
            "726/726 - 4s - loss: 0.0132 - sparse_categorical_accuracy: 0.9926 - val_loss: 0.1248 - val_sparse_categorical_accuracy: 0.9695\n",
            "Epoch 9/10\n",
            "726/726 - 5s - loss: 0.0118 - sparse_categorical_accuracy: 0.9938 - val_loss: 0.1248 - val_sparse_categorical_accuracy: 0.9721\n",
            "Epoch 10/10\n",
            "726/726 - 4s - loss: 0.0110 - sparse_categorical_accuracy: 0.9927 - val_loss: 0.1146 - val_sparse_categorical_accuracy: 0.9816\n"
          ],
          "name": "stdout"
        },
        {
          "output_type": "execute_result",
          "data": {
            "text/plain": [
              "<tensorflow.python.keras.callbacks.History at 0x7f94102aa6d8>"
            ]
          },
          "metadata": {
            "tags": []
          },
          "execution_count": 13
        }
      ]
    },
    {
      "cell_type": "markdown",
      "metadata": {
        "id": "TOauvXH7zPjG",
        "colab_type": "text"
      },
      "source": [
        "# Save model "
      ]
    },
    {
      "cell_type": "code",
      "metadata": {
        "id": "oS4JAQTdVhGZ",
        "colab_type": "code",
        "colab": {}
      },
      "source": [
        "data_dir = '/content/drive/My Drive/ayush_ML/Data/Ayush_17'\n",
        "os.chdir(data_dir)\n",
        "model.save('model.h5') "
      ],
      "execution_count": null,
      "outputs": []
    },
    {
      "cell_type": "markdown",
      "metadata": {
        "id": "783GkaEy_DHP",
        "colab_type": "text"
      },
      "source": [
        "# Check attention"
      ]
    },
    {
      "cell_type": "code",
      "metadata": {
        "colab_type": "code",
        "id": "9XFFu3TQCeic",
        "colab": {
          "base_uri": "https://localhost:8080/",
          "height": 1000
        },
        "outputId": "88d2a633-8f64-441a-f52c-38080b3b5813"
      },
      "source": [
        "from matplotlib import pyplot as plt\n",
        "model2 = Model(inputs=model.input, outputs=[model.get_layer('Output').output, \n",
        "                                            model.get_layer('AttentionSoftmax').output])\n",
        "data_dir = '/content/drive/My Drive/ayush_ML/Data/Ayush_17'\n",
        "os.chdir(data_dir)\n",
        "a,b = model2.predict(x_test)\n",
        "xx_test = np.load('x_test.npy')\n",
        "for aid in range(0,100,18):\n",
        "    plt.plot(range(len(b[aid])), np.log(b[aid]))\n",
        "    plt.show()\n",
        "    plt.plot(range(len(xx_test[aid])),xx_test[aid])\n",
        "    plt.show()"
      ],
      "execution_count": null,
      "outputs": [
        {
          "output_type": "display_data",
          "data": {
            "image/png": "[encoded data removed]",
            "text/plain": [
              "<Figure size 432x288 with 1 Axes>"
            ]
          },
          "metadata": {
            "tags": [],
            "needs_background": "light"
          }
        },
        {
          "output_type": "display_data",
          "data": {
            "image/png": "[encoded data removed]",
            "text/plain": [
              "<Figure size 432x288 with 1 Axes>"
            ]
          },
          "metadata": {
            "tags": [],
            "needs_background": "light"
          }
        },
        {
          "output_type": "display_data",
          "data": {
            "image/png": "[encoded data removed]",
            "text/plain": [
              "<Figure size 432x288 with 1 Axes>"
            ]
          },
          "metadata": {
            "tags": [],
            "needs_background": "light"
          }
        },
        {
          "output_type": "display_data",
          "data": {
            "image/png": "[encoded data removed]",
            "text/plain": [
              "<Figure size 432x288 with 1 Axes>"
            ]
          },
          "metadata": {
            "tags": [],
            "needs_background": "light"
          }
        },
        {
          "output_type": "display_data",
          "data": {
            "image/png": "[encoded data removed]",
            "text/plain": [
              "<Figure size 432x288 with 1 Axes>"
            ]
          },
          "metadata": {
            "tags": [],
            "needs_background": "light"
          }
        },
        {
          "output_type": "display_data",
          "data": {
            "image/png": "[encoded data removed]",
            "text/plain": [
              "<Figure size 432x288 with 1 Axes>"
            ]
          },
          "metadata": {
            "tags": [],
            "needs_background": "light"
          }
        },
        {
          "output_type": "display_data",
          "data": {
            "image/png": "[encoded data removed]",
            "text/plain": [
              "<Figure size 432x288 with 1 Axes>"
            ]
          },
          "metadata": {
            "tags": [],
            "needs_background": "light"
          }
        },
        {
          "output_type": "display_data",
          "data": {
            "image/png": "[encoded data removed]",
            "text/plain": [
              "<Figure size 432x288 with 1 Axes>"
            ]
          },
          "metadata": {
            "tags": [],
            "needs_background": "light"
          }
        },
        {
          "output_type": "display_data",
          "data": {
            "image/png": "[encoded data removed]",
            "text/plain": [
              "<Figure size 432x288 with 1 Axes>"
            ]
          },
          "metadata": {
            "tags": [],
            "needs_background": "light"
          }
        },
        {
          "output_type": "display_data",
          "data": {
            "image/png": "[encoded data removed]",
            "text/plain": [
              "<Figure size 432x288 with 1 Axes>"
            ]
          },
          "metadata": {
            "tags": [],
            "needs_background": "light"
          }
        },
        {
          "output_type": "display_data",
          "data": {
            "image/png": "[encoded data removed]",
            "text/plain": [
              "<Figure size 432x288 with 1 Axes>"
            ]
          },
          "metadata": {
            "tags": [],
            "needs_background": "light"
          }
        },
        {
          "output_type": "display_data",
          "data": {
            "image/png": "[encoded data removed]",
            "text/plain": [
              "<Figure size 432x288 with 1 Axes>"
            ]
          },
          "metadata": {
            "tags": [],
            "needs_background": "light"
          }
        }
      ]
    },
    {
      "cell_type": "markdown",
      "metadata": {
        "id": "S8qpQVGvzUqD",
        "colab_type": "text"
      },
      "source": [
        "# Test Model"
      ]
    },
    {
      "cell_type": "code",
      "metadata": {
        "id": "R5qOA0WlFIHC",
        "colab_type": "code",
        "colab": {}
      },
      "source": [
        "# all imports\n",
        "from IPython.display import Javascript\n",
        "from google.colab import output\n",
        "from base64 import b64decode\n",
        "import ffmpeg\n",
        " \n",
        "RECORD = \"\"\"\n",
        "const sleep  = time => new Promise(resolve => setTimeout(resolve, time))\n",
        "const b2text = blob => new Promise(resolve => {\n",
        "  const reader = new FileReader()\n",
        "  reader.onloadend = e => resolve(e.srcElement.result)\n",
        "  reader.readAsDataURL(blob)\n",
        "})\n",
        "var record = time => new Promise(async resolve => {\n",
        "  stream = await navigator.mediaDevices.getUserMedia({ audio: true })\n",
        "  recorder = new MediaRecorder(stream)\n",
        "  chunks = []\n",
        "  recorder.ondataavailable = e => chunks.push(e.data)\n",
        "  recorder.start()\n",
        "  await sleep(time)\n",
        "  recorder.onstop = async ()=>{\n",
        "    blob = new Blob(chunks)\n",
        "    text = await b2text(blob)\n",
        "    resolve(text)\n",
        "  }\n",
        "  recorder.stop()\n",
        "})\n",
        "\"\"\"\n",
        " \n",
        "def record(sec=1, path='audio.wav'):\n",
        "  display(Javascript(RECORD))\n",
        "  s = output.eval_js('record(%d)' % (sec*1000))\n",
        "  b = b64decode(s.split(',')[1])\n",
        "  process = (ffmpeg\n",
        "    .input('pipe:0')\n",
        "    .output(path, format='wav', ac=1, ar=16000)\n",
        "    .run_async(pipe_stdin=True, pipe_stdout=True, pipe_stderr=True, quiet=True, overwrite_output=True)\n",
        "  )\n",
        "  process.communicate(input=b)"
      ],
      "execution_count": null,
      "outputs": []
    },
    {
      "cell_type": "markdown",
      "metadata": {
        "id": "d0ubvRBIzf3e",
        "colab_type": "text"
      },
      "source": [
        "# Instructions: \n",
        "#### 1.Locate the folder where you save your model.h5 file.\n",
        "#### 2.Start speaking when you see mike in the bottom right pane of the task bar or see red blinking dot in the title bar. \n",
        "#### 3. If still facing some error try to set the mike recorder time in the previous record function up to 3 sec. "
      ]
    },
    {
      "cell_type": "code",
      "metadata": {
        "id": "XWN1UCSYGO3d",
        "colab_type": "code",
        "colab": {
          "base_uri": "https://localhost:8080/",
          "height": 89
        },
        "outputId": "215e7c82-8332-4033-c350-dc21282b1473"
      },
      "source": [
        "from tensorflow import keras\n",
        "import soundfile as sf\n",
        "import numpy as np\n",
        " \n",
        "rootPath = '/content/drive/My Drive/ayush_ML/Data/Ayush_17/'\n",
        "model = keras.models.load_model(rootPath + '/model.h5')\n",
        "record(path=rootPath + '/testfile.wav')\n",
        "l = sf.read(rootPath + '/testfile.wav')[0]\n",
        "l = l[0:8000]\n",
        "x = len(l)\n",
        "p = 25000-x\n",
        "nx = np.zeros(25000)\n",
        "for y in range(1 ,p, 500):\n",
        "    nx[y:y+x] = l\n",
        "nx = nx.reshape([1, len(nx)])\n",
        " \n",
        "mfcc = Sequential()\n",
        "mfcc.add(L.Reshape((1, -1)))\n",
        "mfcc.add(Melspectrogram(padding='same', sr=16000, n_mels=39, n_dft = 1024,\n",
        "                        power_melgram=2.0, return_decibel_melgram=True,\n",
        "                        trainable_fb=False, trainable_kernel=False,\n",
        "                        name='mel_stft'))\n",
        "mfcc.add(Normalization2D(str_axis='freq'))\n",
        "mfcc.add(L.Permute((2, 1, 3)))\n",
        " \n",
        "nx = mfcc.predict(nx)\n",
        " \n",
        "y = model.predict(nx)[0]\n",
        "y = np.argmax(y)\n",
        "words = ['forward','back', 'left', 'right', 'stop']\n",
        "print (words [y])"
      ],
      "execution_count": null,
      "outputs": [
        {
          "output_type": "display_data",
          "data": {
            "application/javascript": [
              "\n",
              "const sleep  = time => new Promise(resolve => setTimeout(resolve, time))\n",
              "const b2text = blob => new Promise(resolve => {\n",
              "  const reader = new FileReader()\n",
              "  reader.onloadend = e => resolve(e.srcElement.result)\n",
              "  reader.readAsDataURL(blob)\n",
              "})\n",
              "var record = time => new Promise(async resolve => {\n",
              "  stream = await navigator.mediaDevices.getUserMedia({ audio: true })\n",
              "  recorder = new MediaRecorder(stream)\n",
              "  chunks = []\n",
              "  recorder.ondataavailable = e => chunks.push(e.data)\n",
              "  recorder.start()\n",
              "  await sleep(time)\n",
              "  recorder.onstop = async ()=>{\n",
              "    blob = new Blob(chunks)\n",
              "    text = await b2text(blob)\n",
              "    resolve(text)\n",
              "  }\n",
              "  recorder.stop()\n",
              "})\n"
            ],
            "text/plain": [
              "<IPython.core.display.Javascript object>"
            ]
          },
          "metadata": {
            "tags": []
          }
        },
        {
          "output_type": "stream",
          "text": [
            "WARNING:tensorflow:11 out of the last 11 calls to <function Model.make_predict_function.<locals>.predict_function at 0x7f92bba86840> triggered tf.function retracing. Tracing is expensive and the excessive number of tracings could be due to (1) creating @tf.function repeatedly in a loop, (2) passing tensors with different shapes, (3) passing Python objects instead of tensors. For (1), please define your @tf.function outside of the loop. For (2), @tf.function has experimental_relax_shapes=True option that relaxes argument shapes that can avoid unnecessary retracing. For (3), please refer to https://www.tensorflow.org/tutorials/customization/performance#python_or_tensor_args and https://www.tensorflow.org/api_docs/python/tf/function for  more details.\n",
            "WARNING:tensorflow:11 out of the last 11 calls to <function Model.make_predict_function.<locals>.predict_function at 0x7f92b6161ea0> triggered tf.function retracing. Tracing is expensive and the excessive number of tracings could be due to (1) creating @tf.function repeatedly in a loop, (2) passing tensors with different shapes, (3) passing Python objects instead of tensors. For (1), please define your @tf.function outside of the loop. For (2), @tf.function has experimental_relax_shapes=True option that relaxes argument shapes that can avoid unnecessary retracing. For (3), please refer to https://www.tensorflow.org/tutorials/customization/performance#python_or_tensor_args and https://www.tensorflow.org/api_docs/python/tf/function for  more details.\n",
            "stop\n"
          ],
          "name": "stdout"
        }
      ]
    },
    {
      "cell_type": "markdown",
      "metadata": {
        "id": "vpBpRmavzelO",
        "colab_type": "text"
      },
      "source": [
        ""
      ]
    }
  ]
}